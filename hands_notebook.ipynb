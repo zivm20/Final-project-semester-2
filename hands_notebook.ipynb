{
 "metadata": {
  "language_info": {
   "codemirror_mode": {
    "name": "ipython",
    "version": 3
   },
   "file_extension": ".py",
   "mimetype": "text/x-python",
   "name": "python",
   "nbconvert_exporter": "python",
   "pygments_lexer": "ipython3",
   "version": "3.8.5"
  },
  "orig_nbformat": 4,
  "kernelspec": {
   "name": "python3",
   "display_name": "Python 3.8.5 64-bit"
  },
  "interpreter": {
   "hash": "1baa965d5efe3ac65b79dfc60c0d706280b1da80fedb7760faf2759126c4f253"
  }
 },
 "nbformat": 4,
 "nbformat_minor": 2,
 "cells": [
  {
   "cell_type": "code",
   "execution_count": 89,
   "metadata": {},
   "outputs": [],
   "source": [
    "import numpy as np \n",
    "import pandas as pd \n",
    "from os import listdir\n"
   ]
  },
  {
   "cell_type": "code",
   "execution_count": 91,
   "metadata": {},
   "outputs": [],
   "source": [
    "#[\"Time\", \" Frame ID\", \" Hand Type\", \" # hands\", \" Position X\", \" Position Y\", \" Position Z\", \" Velocity X\", \" Velocity Y\",  Velocity Z,  Pitch,  Roll,  Yaw,  Wrist Pos X,  Wrist Pos Y,  Wrist Pos Z,  Elbow pos X,  Elbow Pos Y,  Elbow Pos Z,  Grab Strenth,  Grab Angle,  Pinch Strength]"
   ]
  },
  {
   "cell_type": "code",
   "execution_count": 101,
   "metadata": {},
   "outputs": [],
   "source": [
    "def load_person(person_dir,p_name):\n",
    "    dataframes = {\"Spontan\":None,\"Sync\":None,\"Alone\":None}\n",
    "    for name in listdir(person_dir):\n",
    "        target = \"Sync\"\n",
    "        df = pd.read_csv(person_dir+name)\n",
    "        df[\"name\"] = p_name\n",
    "        if \"Spontan\" in name:\n",
    "            target = \"Spontan\"\n",
    "        elif \"Alone\" in name:\n",
    "            target = \"Alone\"\n",
    "        \n",
    "        if dataframes[target] is None:\n",
    "            dataframes[target] = df            \n",
    "        else:\n",
    "            dataframes[target] = pd.concat([dataframes[target],df])\n",
    "    return dataframes\n",
    "        \n"
   ]
  },
  {
   "cell_type": "code",
   "execution_count": 109,
   "metadata": {},
   "outputs": [],
   "source": [
    "def load_data(path,r_hands=\"\"):\n",
    "    hands_folder = listdir(r\"data/hands/\")\n",
    "    alone_df = None\n",
    "    sync_df = None\n",
    "    spont_df = None\n",
    "    if \"new\" not in hands_folder:\n",
    "        for name in listdir(path):\n",
    "            dataframes = load_person(path+name+r\"/\",name)\n",
    "            alone_df = dataframes[\"Alone\"]\n",
    "            alone_id = alone_df[\"Time\"].to_numpy()\n",
    "            add = r_hands.loc[r_hands[\"Time\"].isin(alone_id)]\n",
    "            alone_df = pd.concat([alone_df,add])\n",
    "            print(add)\n",
    "            sync_df = dataframes[\"Sync\"]\n",
    "            spont_df = dataframes[\"Spontan\"]\n",
    "\n",
    "    return alone_df, sync_df, spont_df"
   ]
  },
  {
   "cell_type": "code",
   "execution_count": 110,
   "metadata": {},
   "outputs": [
    {
     "output_type": "stream",
     "name": "stdout",
     "text": [
      "Empty DataFrame\nColumns: [Time,  Frame ID,  Hand Type,  # hands,  Position X,  Position Y,  Position Z,  Velocity X,  Velocity Y,  Velocity Z,  Pitch,  Roll,  Yaw,  Wrist Pos X,  Wrist Pos Y,  Wrist Pos Z,  Elbow pos X,  Elbow Pos Y,  Elbow Pos Z,  Grab Strenth,  Grab Angle,  Pinch Strength]\nIndex: []\n\n[0 rows x 22 columns]\nEmpty DataFrame\nColumns: [Time,  Frame ID,  Hand Type,  # hands,  Position X,  Position Y,  Position Z,  Velocity X,  Velocity Y,  Velocity Z,  Pitch,  Roll,  Yaw,  Wrist Pos X,  Wrist Pos Y,  Wrist Pos Z,  Elbow pos X,  Elbow Pos Y,  Elbow Pos Z,  Grab Strenth,  Grab Angle,  Pinch Strength]\nIndex: []\n\n[0 rows x 22 columns]\nEmpty DataFrame\nColumns: [Time,  Frame ID,  Hand Type,  # hands,  Position X,  Position Y,  Position Z,  Velocity X,  Velocity Y,  Velocity Z,  Pitch,  Roll,  Yaw,  Wrist Pos X,  Wrist Pos Y,  Wrist Pos Z,  Elbow pos X,  Elbow Pos Y,  Elbow Pos Z,  Grab Strenth,  Grab Angle,  Pinch Strength]\nIndex: []\n\n[0 rows x 22 columns]\n"
     ]
    },
    {
     "output_type": "execute_result",
     "data": {
      "text/plain": [
       "          Time   Frame ID  Hand Type   # hands   Position X   Position Y  \\\n",
       "0     283.1600      15464       left         1   -106.15310     212.1719   \n",
       "1     283.1932      15466       left         1   -107.15710     212.7741   \n",
       "2     283.2276      15468       left         1   -107.65740     213.0860   \n",
       "3     283.2599      15469       left         1   -107.93800     213.2137   \n",
       "4     283.2926      15471       left         1   -108.64170     213.6065   \n",
       "...        ...        ...        ...       ...          ...          ...   \n",
       "2245  796.7517      50329       left         1    -62.14733     282.7198   \n",
       "2246  796.7842      50331       left         1    -64.38816     276.7341   \n",
       "2247  796.8187      50333       left         1    -65.33954     272.7191   \n",
       "2248  796.8510      50336       left         1    -67.02361     268.6757   \n",
       "2249  796.8842      50338       left         1    -67.49754     266.6283   \n",
       "\n",
       "       Position Z   Velocity X   Velocity Y   Velocity Z  ...   Wrist Pos X  \\\n",
       "0        7.986273    -44.95548    12.355830   -24.734290  ...     -131.7191   \n",
       "1        7.744774    -20.60004    13.756570     1.386718  ...     -132.5700   \n",
       "2        8.023793    -11.95028     5.918634     9.306451  ...     -133.0979   \n",
       "3        8.310549    -14.26006     6.484500    14.571670  ...     -133.3163   \n",
       "4        9.154217    -18.88511    11.128060    22.296390  ...     -133.8779   \n",
       "...           ...          ...          ...          ...  ...           ...   \n",
       "2245    62.156590    -90.00631  -129.346800   -50.105870  ...     -107.4325   \n",
       "2246    60.394180    -51.70352  -204.264300   -56.992680  ...     -108.3709   \n",
       "2247    59.171990    -27.79678  -111.888100   -42.745720  ...     -108.3173   \n",
       "2248    57.914730    -31.61606   -76.331120   -24.734110  ...     -108.7151   \n",
       "2249    57.186700    -14.96531   -64.546130   -20.448220  ...     -109.1796   \n",
       "\n",
       "       Wrist Pos Y   Wrist Pos Z   Elbow pos X   Elbow Pos Y   Elbow Pos Z  \\\n",
       "0         161.8189      58.08580     -247.1368     -31.16593      202.3142   \n",
       "1         162.4414      57.94423     -249.1520     -29.91031      202.0820   \n",
       "2         162.7296      58.18657     -250.3536     -29.32039      202.1801   \n",
       "3         162.7870      58.43471     -250.5433     -29.49617      202.1402   \n",
       "4         163.0382      59.20639     -249.6326     -30.70202      202.1463   \n",
       "...            ...           ...           ...           ...           ...   \n",
       "2245      230.6662      88.71685     -297.5073      60.94059      148.1517   \n",
       "2246      224.7578      89.17332     -293.6125      50.64548      151.1262   \n",
       "2247      220.3898      88.81828     -290.7480      44.09612      152.9062   \n",
       "2248      215.5677      88.03761     -285.7091      36.18958      158.4956   \n",
       "2249      213.7703      87.76189     -286.3080      34.89315      159.1492   \n",
       "\n",
       "       Grab Strenth   Grab Angle   Pinch Strength         name  \n",
       "0               0.0     0.748743              0.0  Oded Medina  \n",
       "1               0.0     0.760732              0.0  Oded Medina  \n",
       "2               0.0     0.761968              0.0  Oded Medina  \n",
       "3               0.0     0.762115              0.0  Oded Medina  \n",
       "4               0.0     0.765609              0.0  Oded Medina  \n",
       "...             ...          ...              ...          ...  \n",
       "2245            0.0     0.149477              0.0  Oded Medina  \n",
       "2246            0.0     0.205101              0.0  Oded Medina  \n",
       "2247            0.0     0.304604              0.0  Oded Medina  \n",
       "2248            0.0     0.374116              0.0  Oded Medina  \n",
       "2249            0.0     0.395089              0.0  Oded Medina  \n",
       "\n",
       "[4500 rows x 23 columns]"
      ],
      "text/html": "<div>\n<style scoped>\n    .dataframe tbody tr th:only-of-type {\n        vertical-align: middle;\n    }\n\n    .dataframe tbody tr th {\n        vertical-align: top;\n    }\n\n    .dataframe thead th {\n        text-align: right;\n    }\n</style>\n<table border=\"1\" class=\"dataframe\">\n  <thead>\n    <tr style=\"text-align: right;\">\n      <th></th>\n      <th>Time</th>\n      <th>Frame ID</th>\n      <th>Hand Type</th>\n      <th># hands</th>\n      <th>Position X</th>\n      <th>Position Y</th>\n      <th>Position Z</th>\n      <th>Velocity X</th>\n      <th>Velocity Y</th>\n      <th>Velocity Z</th>\n      <th>...</th>\n      <th>Wrist Pos X</th>\n      <th>Wrist Pos Y</th>\n      <th>Wrist Pos Z</th>\n      <th>Elbow pos X</th>\n      <th>Elbow Pos Y</th>\n      <th>Elbow Pos Z</th>\n      <th>Grab Strenth</th>\n      <th>Grab Angle</th>\n      <th>Pinch Strength</th>\n      <th>name</th>\n    </tr>\n  </thead>\n  <tbody>\n    <tr>\n      <th>0</th>\n      <td>283.1600</td>\n      <td>15464</td>\n      <td>left</td>\n      <td>1</td>\n      <td>-106.15310</td>\n      <td>212.1719</td>\n      <td>7.986273</td>\n      <td>-44.95548</td>\n      <td>12.355830</td>\n      <td>-24.734290</td>\n      <td>...</td>\n      <td>-131.7191</td>\n      <td>161.8189</td>\n      <td>58.08580</td>\n      <td>-247.1368</td>\n      <td>-31.16593</td>\n      <td>202.3142</td>\n      <td>0.0</td>\n      <td>0.748743</td>\n      <td>0.0</td>\n      <td>Oded Medina</td>\n    </tr>\n    <tr>\n      <th>1</th>\n      <td>283.1932</td>\n      <td>15466</td>\n      <td>left</td>\n      <td>1</td>\n      <td>-107.15710</td>\n      <td>212.7741</td>\n      <td>7.744774</td>\n      <td>-20.60004</td>\n      <td>13.756570</td>\n      <td>1.386718</td>\n      <td>...</td>\n      <td>-132.5700</td>\n      <td>162.4414</td>\n      <td>57.94423</td>\n      <td>-249.1520</td>\n      <td>-29.91031</td>\n      <td>202.0820</td>\n      <td>0.0</td>\n      <td>0.760732</td>\n      <td>0.0</td>\n      <td>Oded Medina</td>\n    </tr>\n    <tr>\n      <th>2</th>\n      <td>283.2276</td>\n      <td>15468</td>\n      <td>left</td>\n      <td>1</td>\n      <td>-107.65740</td>\n      <td>213.0860</td>\n      <td>8.023793</td>\n      <td>-11.95028</td>\n      <td>5.918634</td>\n      <td>9.306451</td>\n      <td>...</td>\n      <td>-133.0979</td>\n      <td>162.7296</td>\n      <td>58.18657</td>\n      <td>-250.3536</td>\n      <td>-29.32039</td>\n      <td>202.1801</td>\n      <td>0.0</td>\n      <td>0.761968</td>\n      <td>0.0</td>\n      <td>Oded Medina</td>\n    </tr>\n    <tr>\n      <th>3</th>\n      <td>283.2599</td>\n      <td>15469</td>\n      <td>left</td>\n      <td>1</td>\n      <td>-107.93800</td>\n      <td>213.2137</td>\n      <td>8.310549</td>\n      <td>-14.26006</td>\n      <td>6.484500</td>\n      <td>14.571670</td>\n      <td>...</td>\n      <td>-133.3163</td>\n      <td>162.7870</td>\n      <td>58.43471</td>\n      <td>-250.5433</td>\n      <td>-29.49617</td>\n      <td>202.1402</td>\n      <td>0.0</td>\n      <td>0.762115</td>\n      <td>0.0</td>\n      <td>Oded Medina</td>\n    </tr>\n    <tr>\n      <th>4</th>\n      <td>283.2926</td>\n      <td>15471</td>\n      <td>left</td>\n      <td>1</td>\n      <td>-108.64170</td>\n      <td>213.6065</td>\n      <td>9.154217</td>\n      <td>-18.88511</td>\n      <td>11.128060</td>\n      <td>22.296390</td>\n      <td>...</td>\n      <td>-133.8779</td>\n      <td>163.0382</td>\n      <td>59.20639</td>\n      <td>-249.6326</td>\n      <td>-30.70202</td>\n      <td>202.1463</td>\n      <td>0.0</td>\n      <td>0.765609</td>\n      <td>0.0</td>\n      <td>Oded Medina</td>\n    </tr>\n    <tr>\n      <th>...</th>\n      <td>...</td>\n      <td>...</td>\n      <td>...</td>\n      <td>...</td>\n      <td>...</td>\n      <td>...</td>\n      <td>...</td>\n      <td>...</td>\n      <td>...</td>\n      <td>...</td>\n      <td>...</td>\n      <td>...</td>\n      <td>...</td>\n      <td>...</td>\n      <td>...</td>\n      <td>...</td>\n      <td>...</td>\n      <td>...</td>\n      <td>...</td>\n      <td>...</td>\n      <td>...</td>\n    </tr>\n    <tr>\n      <th>2245</th>\n      <td>796.7517</td>\n      <td>50329</td>\n      <td>left</td>\n      <td>1</td>\n      <td>-62.14733</td>\n      <td>282.7198</td>\n      <td>62.156590</td>\n      <td>-90.00631</td>\n      <td>-129.346800</td>\n      <td>-50.105870</td>\n      <td>...</td>\n      <td>-107.4325</td>\n      <td>230.6662</td>\n      <td>88.71685</td>\n      <td>-297.5073</td>\n      <td>60.94059</td>\n      <td>148.1517</td>\n      <td>0.0</td>\n      <td>0.149477</td>\n      <td>0.0</td>\n      <td>Oded Medina</td>\n    </tr>\n    <tr>\n      <th>2246</th>\n      <td>796.7842</td>\n      <td>50331</td>\n      <td>left</td>\n      <td>1</td>\n      <td>-64.38816</td>\n      <td>276.7341</td>\n      <td>60.394180</td>\n      <td>-51.70352</td>\n      <td>-204.264300</td>\n      <td>-56.992680</td>\n      <td>...</td>\n      <td>-108.3709</td>\n      <td>224.7578</td>\n      <td>89.17332</td>\n      <td>-293.6125</td>\n      <td>50.64548</td>\n      <td>151.1262</td>\n      <td>0.0</td>\n      <td>0.205101</td>\n      <td>0.0</td>\n      <td>Oded Medina</td>\n    </tr>\n    <tr>\n      <th>2247</th>\n      <td>796.8187</td>\n      <td>50333</td>\n      <td>left</td>\n      <td>1</td>\n      <td>-65.33954</td>\n      <td>272.7191</td>\n      <td>59.171990</td>\n      <td>-27.79678</td>\n      <td>-111.888100</td>\n      <td>-42.745720</td>\n      <td>...</td>\n      <td>-108.3173</td>\n      <td>220.3898</td>\n      <td>88.81828</td>\n      <td>-290.7480</td>\n      <td>44.09612</td>\n      <td>152.9062</td>\n      <td>0.0</td>\n      <td>0.304604</td>\n      <td>0.0</td>\n      <td>Oded Medina</td>\n    </tr>\n    <tr>\n      <th>2248</th>\n      <td>796.8510</td>\n      <td>50336</td>\n      <td>left</td>\n      <td>1</td>\n      <td>-67.02361</td>\n      <td>268.6757</td>\n      <td>57.914730</td>\n      <td>-31.61606</td>\n      <td>-76.331120</td>\n      <td>-24.734110</td>\n      <td>...</td>\n      <td>-108.7151</td>\n      <td>215.5677</td>\n      <td>88.03761</td>\n      <td>-285.7091</td>\n      <td>36.18958</td>\n      <td>158.4956</td>\n      <td>0.0</td>\n      <td>0.374116</td>\n      <td>0.0</td>\n      <td>Oded Medina</td>\n    </tr>\n    <tr>\n      <th>2249</th>\n      <td>796.8842</td>\n      <td>50338</td>\n      <td>left</td>\n      <td>1</td>\n      <td>-67.49754</td>\n      <td>266.6283</td>\n      <td>57.186700</td>\n      <td>-14.96531</td>\n      <td>-64.546130</td>\n      <td>-20.448220</td>\n      <td>...</td>\n      <td>-109.1796</td>\n      <td>213.7703</td>\n      <td>87.76189</td>\n      <td>-286.3080</td>\n      <td>34.89315</td>\n      <td>159.1492</td>\n      <td>0.0</td>\n      <td>0.395089</td>\n      <td>0.0</td>\n      <td>Oded Medina</td>\n    </tr>\n  </tbody>\n</table>\n<p>4500 rows × 23 columns</p>\n</div>"
     },
     "metadata": {},
     "execution_count": 110
    }
   ],
   "source": [
    "r_hands = pd.read_csv(r\"data/hands/HandRight.csv\")\n",
    "dfs = load_data(r\"data/hands/Validation/\",r_hands)\n",
    "dfs[0]"
   ]
  },
  {
   "cell_type": "code",
   "execution_count": null,
   "metadata": {},
   "outputs": [],
   "source": []
  },
  {
   "cell_type": "code",
   "execution_count": null,
   "metadata": {},
   "outputs": [],
   "source": []
  }
 ]
}